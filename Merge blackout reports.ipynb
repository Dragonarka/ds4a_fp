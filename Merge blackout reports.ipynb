{
 "cells": [
  {
   "cell_type": "code",
   "execution_count": 1,
   "metadata": {},
   "outputs": [
    {
     "name": "stdout",
     "output_type": "stream",
     "text": [
      "Requirement already satisfied: xlrd in d:\\anaconda3\\lib\\site-packages (1.2.0)\n"
     ]
    }
   ],
   "source": [
    "!pip install xlrd"
   ]
  },
  {
   "cell_type": "code",
   "execution_count": null,
   "metadata": {},
   "outputs": [],
   "source": [
    "!pip install xlrd\n",
    "from os import scandir, getcwd,listdir\n",
    "from os.path import abspath\n",
    "import pandas as pd\n",
    "import xlrd\n",
    "from datetime import datetime\n",
    "import matplotlib.pyplot as plt"
   ]
  },
  {
   "cell_type": "code",
   "execution_count": null,
   "metadata": {},
   "outputs": [],
   "source": [
    "path = 'Energia no entregada'\n",
    "files = listdir(path)\n",
    "lista = {}\n",
    "for file in files:\n",
    "    try:\n",
    "        x = pd.read_excel(path+\"/\"+file,skiprows=4)\n",
    "        lista[file] = x\n",
    "    except:\n",
    "        continue\n",
    "\n",
    "blackout = pd.concat(lista)\n",
    "blackout = blackout.reset_index()\n",
    "blackout = blackout.drop(['level_0','level_1'],axis=1)\n",
    "\n",
    "Areas ={'SubArea Huila-Tolima':'THC',\n",
    "'SubArea Cordoba_Sucre':'Costa Atlantica',\n",
    "'SubArea Meta':'Centro',\n",
    "'SubArea Norte de Santander':'Oriente',\n",
    "'SubArea Boyaca-Casanare':'Oriente',\n",
    "'SubArea Caqueta':'THC',\n",
    "'SubArea No Definida':'Otros',\n",
    "'SubArea Cauca-Narino':'Sur',\n",
    "'SubArea Valle':'Valle',\n",
    "'SubArea Bogota':'Centro',\n",
    "'SubArea Santander':'Oriente',\n",
    "'SubArea Antioquia':'Antioquia',\n",
    "'SubArea Atlantico':'Costa Atlantica',\n",
    "'SubArea Bolivar':'Costa Atlantica',\n",
    "'SubArea GCM':'Costa Atlantica',\n",
    "'SubArea CQR':'CQR',\n",
    "'SubArea Arauca':'Oriente',\n",
    "'SubArea Putumayo':'Sur',\n",
    "'SubArea Cerromatoso':'Costa Atlantica'}\n",
    "\n",
    "blackout['Área'] = blackout['Área'].map(lambda x: Areas[x])"
   ]
  },
  {
   "cell_type": "code",
   "execution_count": 13,
   "metadata": {},
   "outputs": [],
   "source": [
    "blackout = pd.concat(lista)"
   ]
  },
  {
   "cell_type": "code",
   "execution_count": 14,
   "metadata": {},
   "outputs": [],
   "source": [
    "blackout = blackout.reset_index()"
   ]
  },
  {
   "cell_type": "code",
   "execution_count": 15,
   "metadata": {},
   "outputs": [],
   "source": [
    "blackout = blackout.drop(['level_0','level_1'],axis=1)"
   ]
  },
  {
   "cell_type": "code",
   "execution_count": 16,
   "metadata": {},
   "outputs": [
    {
     "data": {
      "text/plain": [
       "array(['SubArea Huila-Tolima', 'SubArea Cauca-Narino', 'SubArea Bolivar',\n",
       "       'SubArea Cordoba_Sucre', 'SubArea Valle', 'SubArea GCM',\n",
       "       'SubArea Meta', 'SubArea Bogota', 'SubArea CQR', 'SubArea Arauca',\n",
       "       'SubArea Norte de Santander', 'SubArea Santander',\n",
       "       'SubArea Boyaca-Casanare', 'SubArea Antioquia', 'SubArea Putumayo',\n",
       "       'SubArea Caqueta', 'SubArea Atlantico', 'SubArea Cerromatoso',\n",
       "       'SubArea No Definida'], dtype=object)"
      ]
     },
     "execution_count": 16,
     "metadata": {},
     "output_type": "execute_result"
    }
   ],
   "source": [
    "blackout['Área'].unique()"
   ]
  },
  {
   "cell_type": "code",
   "execution_count": 17,
   "metadata": {},
   "outputs": [],
   "source": [
    "Areas ={'SubArea Huila-Tolima':'THC',\n",
    "'SubArea Cordoba_Sucre':'Costa Atlantica',\n",
    "'SubArea Meta':'Centro',\n",
    "'SubArea Norte de Santander':'Oriente',\n",
    "'SubArea Boyaca-Casanare':'Oriente',\n",
    "'SubArea Caqueta':'THC',\n",
    "'SubArea No Definida':'Otros',\n",
    "'SubArea Cauca-Narino':'Sur',\n",
    "'SubArea Valle':'Valle',\n",
    "'SubArea Bogota':'Centro',\n",
    "'SubArea Santander':'Oriente',\n",
    "'SubArea Antioquia':'Antioquia',\n",
    "'SubArea Atlantico':'Costa Atlantica',\n",
    "'SubArea Bolivar':'Costa Atlantica',\n",
    "'SubArea GCM':'Costa Atlantica',\n",
    "'SubArea CQR':'CQR',\n",
    "'SubArea Arauca':'Oriente',\n",
    "'SubArea Putumayo':'Sur',\n",
    "'SubArea Cerromatoso':'Costa Atlantica'}"
   ]
  },
  {
   "cell_type": "code",
   "execution_count": 23,
   "metadata": {},
   "outputs": [
    {
     "data": {
      "text/plain": [
       "'THC'"
      ]
     },
     "execution_count": 23,
     "metadata": {},
     "output_type": "execute_result"
    }
   ],
   "source": [
    "Areas[blackout['Área'][0]]"
   ]
  },
  {
   "cell_type": "code",
   "execution_count": 26,
   "metadata": {},
   "outputs": [],
   "source": [
    "blackout['Área'] = blackout['Área'].map(lambda x: Areas[x])"
   ]
  },
  {
   "cell_type": "code",
   "execution_count": 30,
   "metadata": {},
   "outputs": [
    {
     "data": {
      "text/plain": [
       "Área                          object\n",
       "Fecha Hora Inicial    datetime64[ns]\n",
       "Fecha Hora Final      datetime64[ns]\n",
       "MWh                          float64\n",
       "Descripció                    object\n",
       "dtype: object"
      ]
     },
     "execution_count": 30,
     "metadata": {},
     "output_type": "execute_result"
    }
   ],
   "source": [
    "blackout.dtypes"
   ]
  },
  {
   "cell_type": "code",
   "execution_count": 31,
   "metadata": {},
   "outputs": [],
   "source": [
    "blackout.to_csv('Energia no entregada/Blackout.csv',sep=';')"
   ]
  }
 ],
 "metadata": {
  "kernelspec": {
   "display_name": "Python 3",
   "language": "python",
   "name": "python3"
  },
  "language_info": {
   "codemirror_mode": {
    "name": "ipython",
    "version": 3
   },
   "file_extension": ".py",
   "mimetype": "text/x-python",
   "name": "python",
   "nbconvert_exporter": "python",
   "pygments_lexer": "ipython3",
   "version": "3.7.1"
  }
 },
 "nbformat": 4,
 "nbformat_minor": 2
}
