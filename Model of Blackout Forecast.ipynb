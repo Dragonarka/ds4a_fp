{
 "cells": [
  {
   "cell_type": "code",
   "execution_count": 82,
   "metadata": {},
   "outputs": [
    {
     "name": "stderr",
     "output_type": "stream",
     "text": [
      "ERROR: Could not find a version that satisfies the requirement sklearn.metrics.plot_roc_curve (from versions: none)\n",
      "ERROR: No matching distribution found for sklearn.metrics.plot_roc_curve\n"
     ]
    }
   ],
   "source": [
    "!pip install sklearn.metrics.plot_roc_curve"
   ]
  },
  {
   "cell_type": "code",
   "execution_count": 83,
   "metadata": {},
   "outputs": [],
   "source": [
    "import pandas as pd\n",
    "import numpy as np\n",
    "import seaborn as sns\n",
    "import matplotlib.pyplot as plt\n",
    "from sklearn.preprocessing import StandardScaler\n",
    "sns.set(style=\"white\")\n",
    "import datetime\n",
    "from sklearn.ensemble import RandomForestClassifier,RandomForestRegressor\n",
    "from sklearn.model_selection import StratifiedKFold, train_test_split\n",
    "from sklearn.metrics import roc_curve, auc, accuracy_score\n",
    "from sklearn.metrics import confusion_matrix\n",
    "import datetime as dt\n"
   ]
  },
  {
   "cell_type": "code",
   "execution_count": 84,
   "metadata": {},
   "outputs": [
    {
     "data": {
      "text/html": [
       "<div>\n",
       "<style scoped>\n",
       "    .dataframe tbody tr th:only-of-type {\n",
       "        vertical-align: middle;\n",
       "    }\n",
       "\n",
       "    .dataframe tbody tr th {\n",
       "        vertical-align: top;\n",
       "    }\n",
       "\n",
       "    .dataframe thead th {\n",
       "        text-align: right;\n",
       "    }\n",
       "</style>\n",
       "<table border=\"1\" class=\"dataframe\">\n",
       "  <thead>\n",
       "    <tr style=\"text-align: right;\">\n",
       "      <th></th>\n",
       "      <th>Unnamed: 0</th>\n",
       "      <th>Date</th>\n",
       "      <th>zone</th>\n",
       "      <th>Energy Demand</th>\n",
       "      <th>Maximum Demand</th>\n",
       "      <th>ENS</th>\n",
       "      <th>Timestamp</th>\n",
       "      <th>longitud</th>\n",
       "      <th>latitud</th>\n",
       "    </tr>\n",
       "  </thead>\n",
       "  <tbody>\n",
       "    <tr>\n",
       "      <th>0</th>\n",
       "      <td>0</td>\n",
       "      <td>2008-01-01</td>\n",
       "      <td>Antioquia</td>\n",
       "      <td>19934753.28</td>\n",
       "      <td>6543000</td>\n",
       "      <td>0.0</td>\n",
       "      <td>1.199146e+09</td>\n",
       "      <td>-75.520020</td>\n",
       "      <td>6.817353</td>\n",
       "    </tr>\n",
       "    <tr>\n",
       "      <th>1</th>\n",
       "      <td>1</td>\n",
       "      <td>2008-01-01</td>\n",
       "      <td>CQR</td>\n",
       "      <td>4939020.28</td>\n",
       "      <td>6543000</td>\n",
       "      <td>0.0</td>\n",
       "      <td>1.199146e+09</td>\n",
       "      <td>-75.728760</td>\n",
       "      <td>5.069058</td>\n",
       "    </tr>\n",
       "    <tr>\n",
       "      <th>2</th>\n",
       "      <td>2</td>\n",
       "      <td>2008-01-01</td>\n",
       "      <td>Centro</td>\n",
       "      <td>23350632.27</td>\n",
       "      <td>6543000</td>\n",
       "      <td>0.0</td>\n",
       "      <td>1.199146e+09</td>\n",
       "      <td>-72.905273</td>\n",
       "      <td>3.316018</td>\n",
       "    </tr>\n",
       "    <tr>\n",
       "      <th>3</th>\n",
       "      <td>3</td>\n",
       "      <td>2008-01-01</td>\n",
       "      <td>Costa Atlantica</td>\n",
       "      <td>23636908.26</td>\n",
       "      <td>6543000</td>\n",
       "      <td>0.0</td>\n",
       "      <td>1.199146e+09</td>\n",
       "      <td>-73.762207</td>\n",
       "      <td>10.509417</td>\n",
       "    </tr>\n",
       "    <tr>\n",
       "      <th>4</th>\n",
       "      <td>4</td>\n",
       "      <td>2008-01-01</td>\n",
       "      <td>Oriente</td>\n",
       "      <td>10794188.43</td>\n",
       "      <td>6543000</td>\n",
       "      <td>0.0</td>\n",
       "      <td>1.199146e+09</td>\n",
       "      <td>-72.531738</td>\n",
       "      <td>6.249776</td>\n",
       "    </tr>\n",
       "  </tbody>\n",
       "</table>\n",
       "</div>"
      ],
      "text/plain": [
       "   Unnamed: 0        Date             zone  Energy Demand  Maximum Demand  \\\n",
       "0           0  2008-01-01        Antioquia    19934753.28         6543000   \n",
       "1           1  2008-01-01              CQR     4939020.28         6543000   \n",
       "2           2  2008-01-01           Centro    23350632.27         6543000   \n",
       "3           3  2008-01-01  Costa Atlantica    23636908.26         6543000   \n",
       "4           4  2008-01-01          Oriente    10794188.43         6543000   \n",
       "\n",
       "   ENS     Timestamp   longitud    latitud  \n",
       "0  0.0  1.199146e+09 -75.520020   6.817353  \n",
       "1  0.0  1.199146e+09 -75.728760   5.069058  \n",
       "2  0.0  1.199146e+09 -72.905273   3.316018  \n",
       "3  0.0  1.199146e+09 -73.762207  10.509417  \n",
       "4  0.0  1.199146e+09 -72.531738   6.249776  "
      ]
     },
     "execution_count": 84,
     "metadata": {},
     "output_type": "execute_result"
    }
   ],
   "source": [
    "energy = pd.read_csv('demand_ens2.csv')\n",
    "energy.head()"
   ]
  },
  {
   "cell_type": "code",
   "execution_count": 85,
   "metadata": {},
   "outputs": [],
   "source": [
    "energy['ENS_']=energy['ENS'].apply(lambda x: 1 if x > 0 else 0)"
   ]
  },
  {
   "cell_type": "code",
   "execution_count": 74,
   "metadata": {},
   "outputs": [
    {
     "data": {
      "text/plain": [
       "array(['Antioquia', 'CQR', 'Centro', 'Costa Atlantica', 'Oriente', 'Sur',\n",
       "       'THC', 'Valle'], dtype=object)"
      ]
     },
     "execution_count": 74,
     "metadata": {},
     "output_type": "execute_result"
    }
   ],
   "source": [
    "energy['zone'].unique()"
   ]
  },
  {
   "cell_type": "code",
   "execution_count": 116,
   "metadata": {},
   "outputs": [],
   "source": [
    "energy['Intercept'] = 1\n",
    "region ={}\n",
    "for x in energy['zone'].unique():\n",
    "    region[x] = energy[energy['zone']==x]"
   ]
  },
  {
   "cell_type": "code",
   "execution_count": 87,
   "metadata": {},
   "outputs": [],
   "source": [
    "ran_for = RandomForestRegressor()"
   ]
  },
  {
   "cell_type": "code",
   "execution_count": 88,
   "metadata": {},
   "outputs": [
    {
     "name": "stderr",
     "output_type": "stream",
     "text": [
      "D:\\anaconda3\\lib\\site-packages\\sklearn\\ensemble\\forest.py:245: FutureWarning: The default value of n_estimators will change from 10 in version 0.20 to 100 in 0.22.\n",
      "  \"10 in version 0.20 to 100 in 0.22.\", FutureWarning)\n"
     ]
    }
   ],
   "source": [
    "ran_for_PRED = {}\n",
    "for x in energy['zone'].unique():\n",
    "    ran_for_P=ran_for.fit(region[x][['Energy Demand','Maximum Demand']],region[x]['ENS'])\n",
    "    ran_for_PRED[x] = ran_for_P.predict(region[x][['Energy Demand','Maximum Demand']])"
   ]
  },
  {
   "cell_type": "code",
   "execution_count": 89,
   "metadata": {},
   "outputs": [],
   "source": [
    "prediction = []\n",
    "for x in energy['zone'].unique():\n",
    "    pred = pd.merge(region[x].reset_index(),pd.DataFrame(ran_for_PRED[x],columns=[['Regression']]),how='left',left_index=True,right_index=True)\n",
    "    prediction.append(pred)"
   ]
  },
  {
   "cell_type": "code",
   "execution_count": 90,
   "metadata": {},
   "outputs": [],
   "source": [
    "energy = pd.concat(prediction).drop(['index','Unnamed: 0'],axis=1).reset_index().drop(['index'],axis=1)"
   ]
  },
  {
   "cell_type": "code",
   "execution_count": 91,
   "metadata": {},
   "outputs": [
    {
     "name": "stderr",
     "output_type": "stream",
     "text": [
      "D:\\anaconda3\\lib\\site-packages\\sklearn\\ensemble\\forest.py:245: FutureWarning: The default value of n_estimators will change from 10 in version 0.20 to 100 in 0.22.\n",
      "  \"10 in version 0.20 to 100 in 0.22.\", FutureWarning)\n"
     ]
    },
    {
     "data": {
      "text/html": [
       "<div>\n",
       "<style scoped>\n",
       "    .dataframe tbody tr th:only-of-type {\n",
       "        vertical-align: middle;\n",
       "    }\n",
       "\n",
       "    .dataframe tbody tr th {\n",
       "        vertical-align: top;\n",
       "    }\n",
       "\n",
       "    .dataframe thead th {\n",
       "        text-align: right;\n",
       "    }\n",
       "</style>\n",
       "<table border=\"1\" class=\"dataframe\">\n",
       "  <thead>\n",
       "    <tr style=\"text-align: right;\">\n",
       "      <th></th>\n",
       "      <th>Date</th>\n",
       "      <th>zone</th>\n",
       "      <th>Energy Demand</th>\n",
       "      <th>Maximum Demand</th>\n",
       "      <th>ENS</th>\n",
       "      <th>Timestamp</th>\n",
       "      <th>longitud</th>\n",
       "      <th>latitud</th>\n",
       "      <th>ENS_</th>\n",
       "      <th>(Regression,)</th>\n",
       "      <th>(Classification,)</th>\n",
       "    </tr>\n",
       "  </thead>\n",
       "  <tbody>\n",
       "    <tr>\n",
       "      <th>0</th>\n",
       "      <td>2008-01-01</td>\n",
       "      <td>Antioquia</td>\n",
       "      <td>19934753.28</td>\n",
       "      <td>6543000</td>\n",
       "      <td>0.0</td>\n",
       "      <td>1.199146e+09</td>\n",
       "      <td>-75.52002</td>\n",
       "      <td>6.817353</td>\n",
       "      <td>0</td>\n",
       "      <td>0.000</td>\n",
       "      <td>0.0</td>\n",
       "    </tr>\n",
       "    <tr>\n",
       "      <th>1</th>\n",
       "      <td>2008-01-02</td>\n",
       "      <td>Antioquia</td>\n",
       "      <td>25503208.08</td>\n",
       "      <td>8042000</td>\n",
       "      <td>0.0</td>\n",
       "      <td>1.199232e+09</td>\n",
       "      <td>-75.52002</td>\n",
       "      <td>6.817353</td>\n",
       "      <td>0</td>\n",
       "      <td>0.226</td>\n",
       "      <td>0.1</td>\n",
       "    </tr>\n",
       "    <tr>\n",
       "      <th>2</th>\n",
       "      <td>2008-01-03</td>\n",
       "      <td>Antioquia</td>\n",
       "      <td>26650538.37</td>\n",
       "      <td>8305000</td>\n",
       "      <td>0.0</td>\n",
       "      <td>1.199318e+09</td>\n",
       "      <td>-75.52002</td>\n",
       "      <td>6.817353</td>\n",
       "      <td>0</td>\n",
       "      <td>0.000</td>\n",
       "      <td>0.0</td>\n",
       "    </tr>\n",
       "    <tr>\n",
       "      <th>3</th>\n",
       "      <td>2008-01-04</td>\n",
       "      <td>Antioquia</td>\n",
       "      <td>26947028.39</td>\n",
       "      <td>8237000</td>\n",
       "      <td>0.0</td>\n",
       "      <td>1.199405e+09</td>\n",
       "      <td>-75.52002</td>\n",
       "      <td>6.817353</td>\n",
       "      <td>0</td>\n",
       "      <td>0.000</td>\n",
       "      <td>0.0</td>\n",
       "    </tr>\n",
       "    <tr>\n",
       "      <th>4</th>\n",
       "      <td>2008-01-05</td>\n",
       "      <td>Antioquia</td>\n",
       "      <td>25935570.09</td>\n",
       "      <td>7865000</td>\n",
       "      <td>0.0</td>\n",
       "      <td>1.199491e+09</td>\n",
       "      <td>-75.52002</td>\n",
       "      <td>6.817353</td>\n",
       "      <td>0</td>\n",
       "      <td>0.000</td>\n",
       "      <td>0.0</td>\n",
       "    </tr>\n",
       "  </tbody>\n",
       "</table>\n",
       "</div>"
      ],
      "text/plain": [
       "         Date       zone  Energy Demand  Maximum Demand  ENS     Timestamp  \\\n",
       "0  2008-01-01  Antioquia    19934753.28         6543000  0.0  1.199146e+09   \n",
       "1  2008-01-02  Antioquia    25503208.08         8042000  0.0  1.199232e+09   \n",
       "2  2008-01-03  Antioquia    26650538.37         8305000  0.0  1.199318e+09   \n",
       "3  2008-01-04  Antioquia    26947028.39         8237000  0.0  1.199405e+09   \n",
       "4  2008-01-05  Antioquia    25935570.09         7865000  0.0  1.199491e+09   \n",
       "\n",
       "   longitud   latitud  ENS_  (Regression,)  (Classification,)  \n",
       "0 -75.52002  6.817353     0          0.000                0.0  \n",
       "1 -75.52002  6.817353     0          0.226                0.1  \n",
       "2 -75.52002  6.817353     0          0.000                0.0  \n",
       "3 -75.52002  6.817353     0          0.000                0.0  \n",
       "4 -75.52002  6.817353     0          0.000                0.0  "
      ]
     },
     "execution_count": 91,
     "metadata": {},
     "output_type": "execute_result"
    }
   ],
   "source": [
    "region ={}\n",
    "ran_for_class = RandomForestClassifier()\n",
    "ran_for_CLASS = {}\n",
    "classifier = []\n",
    "\n",
    "for x in energy['zone'].unique():\n",
    "    region[x] = energy[energy['zone']==x]\n",
    "    ran_for_C = ran_for_class.fit(region[x][['Energy Demand','Maximum Demand']],region[x]['ENS_'])\n",
    "    ran_for_CLASS[x] = ran_for_C.predict_proba(region[x][['Energy Demand','Maximum Demand']])\n",
    "    pred_class = pd.merge(region[x].reset_index(),pd.DataFrame(ran_for_CLASS[x][:,1],columns=[['Classification']]),how='left',left_index=True,right_index=True)\n",
    "    classifier.append(pred_class)\n",
    "\n",
    "#energy = pd.concat(prediction).drop(['index','Unnamed: 0'],axis=1).reset_index().drop(['index'],axis=1)\n",
    "energy=pd.concat(classifier).drop(['index'],axis=1).reset_index().drop(['index'],axis=1)\n",
    "energy.head()"
   ]
  },
  {
   "cell_type": "code",
   "execution_count": 101,
   "metadata": {},
   "outputs": [],
   "source": [
    "score_classifier = {}\n",
    "for x in energy['zone'].unique():\n",
    "    region[x] = energy[energy['zone']==x]\n",
    "    ran_for_C = ran_for_class.fit(region[x][['Energy Demand','Maximum Demand']],region[x]['ENS_'])\n",
    "    score_classifier[x] = ran_for_C.score(region[x][['Energy Demand','Maximum Demand']],region[x]['ENS_'])\n"
   ]
  },
  {
   "cell_type": "code",
   "execution_count": 115,
   "metadata": {},
   "outputs": [
    {
     "data": {
      "text/plain": [
       "0.763681592039801"
      ]
     },
     "execution_count": 115,
     "metadata": {},
     "output_type": "execute_result"
    }
   ],
   "source": [
    "sum(score_classifier.values())/8"
   ]
  },
  {
   "cell_type": "code",
   "execution_count": 117,
   "metadata": {},
   "outputs": [
    {
     "name": "stderr",
     "output_type": "stream",
     "text": [
      "D:\\anaconda3\\lib\\site-packages\\sklearn\\ensemble\\forest.py:245: FutureWarning: The default value of n_estimators will change from 10 in version 0.20 to 100 in 0.22.\n",
      "  \"10 in version 0.20 to 100 in 0.22.\", FutureWarning)\n"
     ]
    }
   ],
   "source": [
    "ran_for = RandomForestRegressor()\n",
    "score_regression = {}\n",
    "for x in energy['zone'].unique():\n",
    "    region[x] = energy[energy['zone']==x]\n",
    "    X_train, X_test, Y_train,Y_test = train_test_split(region[x][['Intercept','Energy Demand','Maximum Demand']],region[x]['ENS_'],test_size=0.2)\n",
    "    ran_for_C = ran_for.fit(X_train,Y_train)\n",
    "    score_regression[x] = ran_for_C.score(X_test,Y_test)\n"
   ]
  },
  {
   "cell_type": "code",
   "execution_count": 118,
   "metadata": {},
   "outputs": [
    {
     "data": {
      "text/plain": [
       "{'Antioquia': -0.2576204123139503,\n",
       " 'CQR': -0.22064252713011714,\n",
       " 'Centro': -0.137234604574211,\n",
       " 'Costa Atlantica': -0.22015773809523775,\n",
       " 'Oriente': -0.25102075309426763,\n",
       " 'Sur': 0.05069064311924887,\n",
       " 'THC': 0.3722514985014984,\n",
       " 'Valle': -0.3078154450261781}"
      ]
     },
     "execution_count": 118,
     "metadata": {},
     "output_type": "execute_result"
    }
   ],
   "source": [
    "score_regression"
   ]
  },
  {
   "cell_type": "code",
   "execution_count": 92,
   "metadata": {},
   "outputs": [],
   "source": [
    "energy.to_csv('Final Forecast.csv')"
   ]
  },
  {
   "cell_type": "code",
   "execution_count": 94,
   "metadata": {},
   "outputs": [
    {
     "data": {
      "text/plain": [
       "0.00      22831\n",
       "1.00         57\n",
       "7.19         31\n",
       "2.80         29\n",
       "2.00         26\n",
       "          ...  \n",
       "296.40        1\n",
       "115.07        1\n",
       "26.59         1\n",
       "74.14         1\n",
       "50.60         1\n",
       "Name: ENS, Length: 4668, dtype: int64"
      ]
     },
     "execution_count": 94,
     "metadata": {},
     "output_type": "execute_result"
    }
   ],
   "source": [
    "energy['ENS'].value_counts()"
   ]
  },
  {
   "cell_type": "code",
   "execution_count": null,
   "metadata": {},
   "outputs": [],
   "source": [
    "Antioquia = energy[energy['zone']==Antioquia]\n",
    "X_train, X_test, Y_train,Y_test = train_test_split(energy_region[['Energy Demand','Maximum Demand']],energy_region['ENS_'],test_size=0.2)\n",
    "ran_for = RandomForestClassifier()\n",
    "ran_for=ran_for.fit(X_train,Y_train)\n",
    "n_pred_train=ran_for.predict(X_train)\n",
    "n_pred_test=ran_for.predict(X_test)\n",
    "print(accuracy_score(Y_train,n_pred_train),accuracy_score(Y_test,n_pred_test))"
   ]
  },
  {
   "cell_type": "code",
   "execution_count": null,
   "metadata": {},
   "outputs": [],
   "source": []
  }
 ],
 "metadata": {
  "kernelspec": {
   "display_name": "Python 3",
   "language": "python",
   "name": "python3"
  },
  "language_info": {
   "codemirror_mode": {
    "name": "ipython",
    "version": 3
   },
   "file_extension": ".py",
   "mimetype": "text/x-python",
   "name": "python",
   "nbconvert_exporter": "python",
   "pygments_lexer": "ipython3",
   "version": "3.7.1"
  }
 },
 "nbformat": 4,
 "nbformat_minor": 2
}
